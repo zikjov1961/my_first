{
 "cells": [
  {
   "cell_type": "code",
   "execution_count": 1,
   "id": "037c8a86",
   "metadata": {},
   "outputs": [],
   "source": [
    "import pandas as pd\n",
    "import statsmodels.formula.api as smf"
   ]
  },
  {
   "cell_type": "code",
   "execution_count": 2,
   "id": "9f2adda6",
   "metadata": {},
   "outputs": [],
   "source": [
    "import pandas as pd\n",
    "df_rwe = pd.read_csv(\"RWE.DE.csv\", index_col=\"Date\")\n"
   ]
  },
  {
   "cell_type": "code",
   "execution_count": 3,
   "id": "c5425886",
   "metadata": {},
   "outputs": [],
   "source": [
    "df_eoan = pd.read_csv(\"EOAN.DE.csv\", index_col=\"Date\")"
   ]
  },
  {
   "cell_type": "code",
   "execution_count": 4,
   "id": "287c0b5c",
   "metadata": {},
   "outputs": [],
   "source": [
    "df_ebk = pd.read_csv(\"EBK.DE.csv\", index_col=\"Date\")"
   ]
  },
  {
   "cell_type": "code",
   "execution_count": 5,
   "id": "ab94fa17",
   "metadata": {},
   "outputs": [],
   "source": [
    "df_dax = pd.read_csv(\"^GDAXI.csv\", index_col=\"Date\")"
   ]
  },
  {
   "cell_type": "code",
   "execution_count": 6,
   "id": "3bb39b63",
   "metadata": {},
   "outputs": [],
   "source": [
    "df_rwe = df_rwe.rename(columns={\"Adj Close\": \"Adjusted\"})\n",
    "df_eoan = df_eoan.rename(columns={\"Adj Close\": \"Adjusted\"})\n",
    "df_ebk = df_ebk.rename(columns={\"Adj Close\": \"Adjusted\"})\n",
    "df_dax = df_dax.rename(columns={\"Adj Close\": \"Adjusted\"})"
   ]
  },
  {
   "cell_type": "code",
   "execution_count": 7,
   "id": "14eaa179",
   "metadata": {},
   "outputs": [
    {
     "name": "stdout",
     "output_type": "stream",
     "text": [
      "                 Open       High        Low      Close   Adjusted   Volume\n",
      "Date                                                                      \n",
      "2010-08-06  55.714470  55.734406  54.757656  55.076595  32.402344  1982542\n",
      "2010-08-09  55.764305  55.933739  55.564968  55.804173  32.830383  1407316\n",
      "2010-08-10  55.275932  55.634735  54.827423  55.315800  32.543068  1875649\n",
      "2010-08-11  54.827423  55.056660  53.820778  54.010147  31.774933  2653914\n",
      "2010-08-12  54.069946  54.179581  53.192867  53.452003  31.446573  2716636\n",
      "                 Open       High        Low      Close   Adjusted    Volume\n",
      "Date                                                                       \n",
      "2010-08-06  21.343451  21.388765  20.813263  20.899361  10.318970  10614621\n",
      "2010-08-09  21.125937  21.270945  21.080622  21.171251  10.453214   8442293\n",
      "2010-08-10  21.225630  21.465801  21.107811  21.248287  10.491251   7414517\n",
      "2010-08-11  21.107811  21.284540  20.908424  20.944675  10.341340   8707899\n",
      "2010-08-12  20.912954  21.098747  20.872171  20.894829  10.316730   7153990\n",
      "                 Open       High        Low      Close   Adjusted  Volume\n",
      "Date                                                                     \n",
      "2010-08-06  36.842834  36.842834  36.743530  36.743530  28.406475    1155\n",
      "2010-08-09  36.842834  37.259926  36.842834  37.071243  28.659838     746\n",
      "2010-08-10  37.230133  37.230133  37.230133  37.230133  28.782669      14\n",
      "2010-08-11  37.225166  37.225166  37.225166  37.225166  28.778835      27\n",
      "2010-08-12  36.544914  37.225166  36.544914  36.544914  28.252928     498\n",
      "                   Open         High          Low        Close     Adjusted  \\\n",
      "Date                                                                          \n",
      "2010-08-06  6361.089844  6386.970215  6244.689941  6259.629883  6259.629883   \n",
      "2010-08-09  6326.620117  6356.410156  6318.120117  6351.600098  6351.600098   \n",
      "2010-08-10  6315.870117  6333.250000  6247.620117  6286.250000  6286.250000   \n",
      "2010-08-11  6234.600098  6236.569824  6143.580078  6154.069824  6154.069824   \n",
      "2010-08-12  6141.899902  6173.419922  6097.720215  6135.169922  6135.169922   \n",
      "\n",
      "               Volume  \n",
      "Date                   \n",
      "2010-08-06  111202900  \n",
      "2010-08-09   70334800  \n",
      "2010-08-10   83815500  \n",
      "2010-08-11  107362000  \n",
      "2010-08-12  113104100  \n"
     ]
    }
   ],
   "source": [
    "print(df_rwe.head())\n",
    "print(df_eoan.head())\n",
    "print(df_ebk.head())\n",
    "print(df_dax.head())"
   ]
  },
  {
   "cell_type": "code",
   "execution_count": 8,
   "id": "640782fa",
   "metadata": {},
   "outputs": [],
   "source": [
    "\n",
    "import matplotlib.pyplot as plt"
   ]
  },
  {
   "cell_type": "code",
   "execution_count": 9,
   "id": "6f056de8",
   "metadata": {},
   "outputs": [],
   "source": [
    "# Umbenennen der Spalten, um Kollisionen beim Zusammenführen zu vermeiden und die Herkunft der Daten zu kennzeichnen\n",
    "df_rwe = df_rwe.add_prefix('RWE.')\n",
    "df_eoan = df_eoan.add_prefix('EOAN.')\n",
    "df_ebk = df_ebk.add_prefix('EBK.')\n",
    "df_dax = df_dax.add_prefix('DAX.')\n",
    "\n"
   ]
  },
  {
   "cell_type": "code",
   "execution_count": 10,
   "id": "f73ad93a",
   "metadata": {},
   "outputs": [
    {
     "name": "stdout",
     "output_type": "stream",
     "text": [
      "             RWE.Open   RWE.High    RWE.Low  RWE.Close  RWE.Adjusted  \\\n",
      "Date                                                                   \n",
      "2010-08-06  55.714470  55.734406  54.757656  55.076595     32.402344   \n",
      "2010-08-09  55.764305  55.933739  55.564968  55.804173     32.830383   \n",
      "2010-08-10  55.275932  55.634735  54.827423  55.315800     32.543068   \n",
      "2010-08-11  54.827423  55.056660  53.820778  54.010147     31.774933   \n",
      "2010-08-12  54.069946  54.179581  53.192867  53.452003     31.446573   \n",
      "\n",
      "            RWE.Volume  EOAN.Open  EOAN.High   EOAN.Low  EOAN.Close  ...  \\\n",
      "Date                                                                 ...   \n",
      "2010-08-06     1982542  21.343451  21.388765  20.813263   20.899361  ...   \n",
      "2010-08-09     1407316  21.125937  21.270945  21.080622   21.171251  ...   \n",
      "2010-08-10     1875649  21.225630  21.465801  21.107811   21.248287  ...   \n",
      "2010-08-11     2653914  21.107811  21.284540  20.908424   20.944675  ...   \n",
      "2010-08-12     2716636  20.912954  21.098747  20.872171   20.894829  ...   \n",
      "\n",
      "              EBK.Low  EBK.Close  EBK.Adjusted  EBK.Volume     DAX.Open  \\\n",
      "Date                                                                      \n",
      "2010-08-06  36.743530  36.743530     28.406475        1155  6361.089844   \n",
      "2010-08-09  36.842834  37.071243     28.659838         746  6326.620117   \n",
      "2010-08-10  37.230133  37.230133     28.782669          14  6315.870117   \n",
      "2010-08-11  37.225166  37.225166     28.778835          27  6234.600098   \n",
      "2010-08-12  36.544914  36.544914     28.252928         498  6141.899902   \n",
      "\n",
      "               DAX.High      DAX.Low    DAX.Close  DAX.Adjusted  DAX.Volume  \n",
      "Date                                                                         \n",
      "2010-08-06  6386.970215  6244.689941  6259.629883   6259.629883   111202900  \n",
      "2010-08-09  6356.410156  6318.120117  6351.600098   6351.600098    70334800  \n",
      "2010-08-10  6333.250000  6247.620117  6286.250000   6286.250000    83815500  \n",
      "2010-08-11  6236.569824  6143.580078  6154.069824   6154.069824   107362000  \n",
      "2010-08-12  6173.419922  6097.720215  6135.169922   6135.169922   113104100  \n",
      "\n",
      "[5 rows x 24 columns]\n"
     ]
    }
   ],
   "source": [
    "# Zusammenführen der DataFrames anhand des Datums\n",
    "combined_data = df_rwe.join([df_eoan, df_ebk, df_dax], how='outer')\n",
    "\n",
    "print(combined_data.head())\n"
   ]
  },
  {
   "cell_type": "code",
   "execution_count": 11,
   "id": "86e57638",
   "metadata": {},
   "outputs": [
    {
     "name": "stdout",
     "output_type": "stream",
     "text": [
      "            RWE.RWE.Open  RWE.RWE.High  RWE.RWE.Low  RWE.RWE.Close  \\\n",
      "Date                                                                 \n",
      "2010-08-06     55.714470     55.734406    54.757656      55.076595   \n",
      "2010-08-09     55.764305     55.933739    55.564968      55.804173   \n",
      "2010-08-10     55.275932     55.634735    54.827423      55.315800   \n",
      "2010-08-11     54.827423     55.056660    53.820778      54.010147   \n",
      "2010-08-12     54.069946     54.179581    53.192867      53.452003   \n",
      "\n",
      "            RWE.RWE.Adjusted  RWE.RWE.Volume  EOAN.EOAN.Open  EOAN.EOAN.High  \\\n",
      "Date                                                                           \n",
      "2010-08-06         32.402344         1982542       21.343451       21.388765   \n",
      "2010-08-09         32.830383         1407316       21.125937       21.270945   \n",
      "2010-08-10         32.543068         1875649       21.225630       21.465801   \n",
      "2010-08-11         31.774933         2653914       21.107811       21.284540   \n",
      "2010-08-12         31.446573         2716636       20.912954       21.098747   \n",
      "\n",
      "            EOAN.EOAN.Low  EOAN.EOAN.Close  ...  EBK.EBK.Low  EBK.EBK.Close  \\\n",
      "Date                                        ...                               \n",
      "2010-08-06      20.813263        20.899361  ...    36.743530      36.743530   \n",
      "2010-08-09      21.080622        21.171251  ...    36.842834      37.071243   \n",
      "2010-08-10      21.107811        21.248287  ...    37.230133      37.230133   \n",
      "2010-08-11      20.908424        20.944675  ...    37.225166      37.225166   \n",
      "2010-08-12      20.872171        20.894829  ...    36.544914      36.544914   \n",
      "\n",
      "            EBK.EBK.Adjusted  EBK.EBK.Volume  DAX.DAX.Open  DAX.DAX.High  \\\n",
      "Date                                                                       \n",
      "2010-08-06         28.406475            1155   6361.089844   6386.970215   \n",
      "2010-08-09         28.659838             746   6326.620117   6356.410156   \n",
      "2010-08-10         28.782669              14   6315.870117   6333.250000   \n",
      "2010-08-11         28.778835              27   6234.600098   6236.569824   \n",
      "2010-08-12         28.252928             498   6141.899902   6173.419922   \n",
      "\n",
      "            DAX.DAX.Low  DAX.DAX.Close  DAX.DAX.Adjusted  DAX.DAX.Volume  \n",
      "Date                                                                      \n",
      "2010-08-06  6244.689941    6259.629883       6259.629883       111202900  \n",
      "2010-08-09  6318.120117    6351.600098       6351.600098        70334800  \n",
      "2010-08-10  6247.620117    6286.250000       6286.250000        83815500  \n",
      "2010-08-11  6143.580078    6154.069824       6154.069824       107362000  \n",
      "2010-08-12  6097.720215    6135.169922       6135.169922       113104100  \n",
      "\n",
      "[5 rows x 24 columns]\n"
     ]
    }
   ],
   "source": [
    "# Umbenennen der Spalten, um Kollisionen beim Zusammenführen zu vermeiden und die Herkunft der Daten zu kennzeichnen\n",
    "df_rwe = df_rwe.add_prefix('RWE.')\n",
    "df_eoan = df_eoan.add_prefix('EOAN.')\n",
    "df_ebk = df_ebk.add_prefix('EBK.')\n",
    "df_dax = df_dax.add_prefix('DAX.')\n",
    "\n",
    "# Zusammenführen der DataFrames anhand des Datums\n",
    "combined_data = df_rwe.join([df_eoan, df_ebk, df_dax], how='outer')\n",
    "\n",
    "print(combined_data.head())\n",
    "\n"
   ]
  },
  {
   "cell_type": "code",
   "execution_count": null,
   "id": "ac3cceba",
   "metadata": {},
   "outputs": [],
   "source": [
    "\n"
   ]
  },
  {
   "cell_type": "code",
   "execution_count": null,
   "id": "779ff825",
   "metadata": {},
   "outputs": [],
   "source": []
  },
  {
   "cell_type": "code",
   "execution_count": null,
   "id": "7fe1beaa",
   "metadata": {},
   "outputs": [],
   "source": []
  },
  {
   "cell_type": "code",
   "execution_count": null,
   "id": "e38eb071",
   "metadata": {},
   "outputs": [],
   "source": []
  },
  {
   "cell_type": "code",
   "execution_count": null,
   "id": "cfaeec02",
   "metadata": {},
   "outputs": [],
   "source": []
  }
 ],
 "metadata": {
  "kernelspec": {
   "display_name": "Python 3 (ipykernel)",
   "language": "python",
   "name": "python3"
  },
  "language_info": {
   "codemirror_mode": {
    "name": "ipython",
    "version": 3
   },
   "file_extension": ".py",
   "mimetype": "text/x-python",
   "name": "python",
   "nbconvert_exporter": "python",
   "pygments_lexer": "ipython3",
   "version": "3.10.9"
  }
 },
 "nbformat": 4,
 "nbformat_minor": 5
}
